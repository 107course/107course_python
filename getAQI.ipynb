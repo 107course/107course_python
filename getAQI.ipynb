{
 "cells": [
  {
   "cell_type": "code",
   "execution_count": 4,
   "metadata": {
    "collapsed": false
   },
   "outputs": [
    {
     "name": "stdout",
     "output_type": "stream",
     "text": [
      "<div style=\" color: yellow ; font-size:1.5em\">\n",
      "<img src=http://taqm.epa.gov.tw/taqm/tw/resource/AqiMap/aqi2.gif> 復興國小測站：AQI: 60 狀況:普通\n",
      "<br/>主要污染物：細懸浮微粒 PM2.5=17, PM10=61\n",
      "</div>\n"
     ]
    }
   ],
   "source": [
    "#!/usr/bin/python3\n",
    "import requests\n",
    "import json\n",
    "\n",
    "#res = requests.get(\"http://opendata2.epa.gov.tw/AQX.json\")\n",
    "res = requests.get(\"http://opendata.epa.gov.tw/ws/Data/REWIQA/?$orderby=SiteName&$skip=0&$top=1000&format=json\")\n",
    "data = json.loads(res.text)\n",
    "\n",
    "def style(AQI):\n",
    "    if(AQI <50):\n",
    "        return \"color: blue\"\n",
    "    if(AQI<100):\n",
    "        return \"color: yellow\"\n",
    "    if(AQI<150):\n",
    "        return \"color: #ff7e00\"\n",
    "    if(AQI<200):\n",
    "        return \"color: red\"\n",
    "    if(AQI<300):\n",
    "        return \"color: purple\"\n",
    "    return \"color: #7E0023\"\n",
    "\n",
    "def image(AQI):\n",
    "    image = \"http://taqm.epa.gov.tw/taqm/tw/resource/AqiMap/\"\n",
    "    if(AQI <50):\n",
    "        return image+\"aqi1.gif\"\n",
    "    if(AQI<100):\n",
    "        return image+\"aqi2.gif\"\n",
    "    if(AQI<150):\n",
    "        return image+\"aqi3.gif\"\n",
    "    if(AQI<200):\n",
    "        return image+\"aqi4.gif\"\n",
    "    if(AQI<300):\n",
    "        return image+\"aqi5.gif\"\n",
    "    return image+\"aqi6.gif\"\n",
    "\n",
    "\n",
    "for kh in data:\n",
    "    if kh['County'] == '高雄市' and kh['SiteName'] == '復興':\n",
    "        print(\"<div style=\\\"\", style(int(kh['AQI'])), \"; font-size:1.5em\\\">\")\n",
    "        print(\"<img src=\"+image(int(kh['AQI']))+\"> 復興國小測站：AQI: \"+kh['AQI']+\" 狀況:\"+kh['Status'])\n",
    "        print(\"<br/>主要污染物：\"+kh['Pollutant']+\" PM2.5=\"+kh['PM2.5']+\", PM10=\"+kh['PM10'])\n",
    "        print(\"</div>\")\n",
    "        \n"
   ]
  },
  {
   "cell_type": "code",
   "execution_count": null,
   "metadata": {
    "collapsed": true
   },
   "outputs": [],
   "source": []
  }
 ],
 "metadata": {
  "kernelspec": {
   "display_name": "Python 3",
   "language": "python",
   "name": "python3"
  },
  "language_info": {
   "codemirror_mode": {
    "name": "ipython",
    "version": 3
   },
   "file_extension": ".py",
   "mimetype": "text/x-python",
   "name": "python",
   "nbconvert_exporter": "python",
   "pygments_lexer": "ipython3",
   "version": "3.5.1"
  }
 },
 "nbformat": 4,
 "nbformat_minor": 0
}
