{
 "cells": [
  {
   "cell_type": "code",
   "execution_count": 25,
   "metadata": {
    "collapsed": false
   },
   "outputs": [
    {
     "name": "stdout",
     "output_type": "stream",
     "text": [
      "「文化中心站」往西子灣下一班車5分鐘到\n"
     ]
    }
   ],
   "source": [
    "import requests\n",
    "import json\n",
    "url = \"http://data.kaohsiung.gov.tw/Opendata/MrtJsonGet.aspx?site=206\"\n",
    "res = requests.get(url)\n",
    "jsondata = res.text[res.text.find('{'):res.text.rfind('}')+1]\n",
    "data=json.loads(jsondata)\n",
    "print(\"「文化中心站」往\"+data['MRT'][1]['descr'],end=\"\")\n",
    "print(\"下一班車\"+data['MRT'][1]['arrival']+\"分鐘到\")"
   ]
  }
 ],
 "metadata": {
  "kernelspec": {
   "display_name": "Python 3",
   "language": "python",
   "name": "python3"
  },
  "language_info": {
   "codemirror_mode": {
    "name": "ipython",
    "version": 3
   },
   "file_extension": ".py",
   "mimetype": "text/x-python",
   "name": "python",
   "nbconvert_exporter": "python",
   "pygments_lexer": "ipython3",
   "version": "3.5.1"
  }
 },
 "nbformat": 4,
 "nbformat_minor": 0
}
