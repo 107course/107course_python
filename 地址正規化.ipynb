{
 "cells": [
  {
   "cell_type": "code",
   "execution_count": 9,
   "metadata": {
    "collapsed": false
   },
   "outputs": [
    {
     "name": "stdout",
     "output_type": "stream",
     "text": [
      "原始地址：凱旋二路89號\n",
      "802 | 台灣 | 高雄市 | 苓雅區 | 同慶里 | 凱旋二路 | 89 | 號\n",
      "22.6264668\n",
      "120.322762\n"
     ]
    },
    {
     "data": {
      "text/html": [
       "\n",
       "        <iframe\n",
       "            width=\"400px\"\n",
       "            height=\"300px\"\n",
       "            src=\"http://maps.google.com/maps?q=22.6264668+120.322762&ie=UTF8&t=h&z=14&22.6264668,120.322762&output=embed\"\n",
       "            frameborder=\"0\"\n",
       "            allowfullscreen\n",
       "        ></iframe>\n",
       "        "
      ],
      "text/plain": [
       "<IPython.lib.display.IFrame at 0x10474a2e8>"
      ]
     },
     "metadata": {},
     "output_type": "display_data"
    }
   ],
   "source": [
    "import requests\n",
    "import json\n",
    "address = \"凱旋二路89號\"\n",
    "res = requests.get(\"http://maps.google.com/maps/api/geocode/json?sensor=false&language=zh-tw&region=tw&address=\"+ address)\n",
    "#print(res.text)\n",
    "data = json.loads(res.text)\n",
    "print(\"原始地址：\"+ address)\n",
    "print(data['results'][0]['address_components'][6]['long_name']+\" | \", end=\"\")\n",
    "print(data['results'][0]['address_components'][5]['long_name']+\" | \", end=\"\")\n",
    "print(data['results'][0]['address_components'][4]['long_name']+\" | \", end=\"\")\n",
    "print(data['results'][0]['address_components'][3]['long_name']+\" | \", end=\"\")\n",
    "print(data['results'][0]['address_components'][2]['long_name']+\" | \", end=\"\")\n",
    "print(data['results'][0]['address_components'][1]['long_name']+\" | \", end=\"\")\n",
    "print(data['results'][0]['address_components'][0]['long_name'] + \" | 號\")\n",
    "\n",
    "print(data['results'][0]['geometry']['location']['lat'])\n",
    "print(data['results'][0]['geometry']['location']['lng'])\n",
    "\n",
    "from IPython.display import IFrame\n",
    "from IPython.core.display import display\n",
    "\n",
    "# Google Maps URL template for an iframe\n",
    "\n",
    "lat = data['results'][0]['geometry']['location']['lat']\n",
    "lon = data['results'][0]['geometry']['location']['lng']\n",
    "\n",
    "google_maps_url = \"http://maps.google.com/maps?q={0}+{1}&ie=UTF8&t=h&z=14&{0},{1}&output=embed\".format(lat, lon)\n",
    "\n",
    "display(IFrame(google_maps_url, '400px', '300px'))\n"
   ]
  },
  {
   "cell_type": "code",
   "execution_count": 22,
   "metadata": {
    "collapsed": false
   },
   "outputs": [
    {
     "data": {
      "text/html": [
       "\n",
       "        <iframe\n",
       "            width=\"425px\"\n",
       "            height=\"350px\"\n",
       "            src=\"http://maps.google.com/maps?q=22.6264668+120.322762&ie=UTF8&t=h&z=14&22.6264668,120.322762&output=embed\"\n",
       "            frameborder=\"0\"\n",
       "            allowfullscreen\n",
       "        ></iframe>\n",
       "        "
      ],
      "text/plain": [
       "<IPython.lib.display.IFrame at 0x1049401d0>"
      ]
     },
     "metadata": {},
     "output_type": "display_data"
    }
   ],
   "source": [
    "from IPython.display import IFrame\n",
    "from IPython.core.display import display\n",
    "\n",
    "# Google Maps URL template for an iframe\n",
    "\n",
    "google_maps_url = \"http://maps.google.com/maps?q={0}+{1}&ie=UTF8&t=h&z=14&{0},{1}&output=embed\".format(lat, lon)\n",
    "\n",
    "display(IFrame(google_maps_url, '425px', '350px'))\n"
   ]
  }
 ],
 "metadata": {
  "kernelspec": {
   "display_name": "Python 3",
   "language": "python",
   "name": "python3"
  },
  "language_info": {
   "codemirror_mode": {
    "name": "ipython",
    "version": 3
   },
   "file_extension": ".py",
   "mimetype": "text/x-python",
   "name": "python",
   "nbconvert_exporter": "python",
   "pygments_lexer": "ipython3",
   "version": "3.5.1"
  }
 },
 "nbformat": 4,
 "nbformat_minor": 0
}
