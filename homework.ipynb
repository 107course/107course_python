{
 "cells": [
  {
   "cell_type": "code",
   "execution_count": 6,
   "metadata": {
    "collapsed": false
   },
   "outputs": [
    {
     "name": "stdout",
     "output_type": "stream",
     "text": [
      "{'PM2.5': '7', 'PSI': '0', 'WindDirec': '222', 'CO': '0.12', 'WindSpeed': '1', 'NOx': '7.77', 'MajorPollutant': '', 'SO2': '1.8', 'County': '高雄市', 'SiteName': '大寮', 'O3': '20', 'NO2': '4.8', 'NO': '2.98', 'Status': '', 'PublishTime': '2016-08-17 10:00', 'PM10': '17', 'FPMI': ''}\n",
      "高雄市大寮站, PM2.5=7\n"
     ]
    }
   ],
   "source": [
    "import requests\n",
    "import json\n",
    "url = \"http://opendata2.epa.gov.tw/AQX.json\"\n",
    "res = requests.get(url)\n",
    "data=json.loads(res.text)\n",
    "print(data[0]['County']+data[0]['SiteName']+\"站, PM2.5=\"+data[0]['PM2.5'])\n"
   ]
  }
 ],
 "metadata": {
  "kernelspec": {
   "display_name": "Python 3",
   "language": "python",
   "name": "python3"
  },
  "language_info": {
   "codemirror_mode": {
    "name": "ipython",
    "version": 3
   },
   "file_extension": ".py",
   "mimetype": "text/x-python",
   "name": "python",
   "nbconvert_exporter": "python",
   "pygments_lexer": "ipython3",
   "version": "3.5.1"
  }
 },
 "nbformat": 4,
 "nbformat_minor": 0
}
